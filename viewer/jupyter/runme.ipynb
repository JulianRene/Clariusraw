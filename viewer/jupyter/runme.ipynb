{
 "cells": [
  {
   "cell_type": "markdown",
   "metadata": {},
   "source": [
    "# Data viewer\n",
    "\n",
    "The following script reads and displays different Clarius data types.\n",
    "\n",
    "## Reading RF data\n",
    "\n",
    "The following script reads rf data from a file and displays it along with a sample generated b mode image.\n"
   ]
  },
  {
   "cell_type": "code",
   "execution_count": null,
   "metadata": {},
   "outputs": [],
   "source": [
    "import numpy as np\n",
    "import sys\n",
    "from scipy.signal import hilbert\n",
    "import matplotlib.pyplot as plt\n",
    "libPath = \"../../common/python\"\n",
    "if not libPath in sys.path: sys.path.append(libPath)\n",
    "import rdataread as rd\n",
    "\n",
    "# locate the path and filename\n",
    "path = \"../data/wirephantom/\"\n",
    "filename = \"phantom_rf.raw\"\n",
    "\n",
    "# reading header information and RF data\n",
    "hdr, timestamps, data = rd.read_rf(path + filename)\n",
    "numframes = 1 #hdr['frames']\n",
    "\n",
    "# covnert RF to B \n",
    "bdata = np.zeros((hdr['lines'], hdr['samples'], hdr['frames']), dtype='float')\n",
    "for frame in range(numframes):\n",
    "    bdata[:,:,frame] = 20 * np.log10( np.abs(1 + hilbert(data[:,:,frame])) )\n",
    "\n",
    "# display images\n",
    "for frame in range(numframes):\n",
    "    plt.figure(figsize=(10,5))\n",
    "    plt.subplot(1,2,1)\n",
    "    plt.imshow(np.transpose(data[:,:,frame]), cmap=plt.cm.plasma, aspect='auto', vmin=-1000, vmax=1000 )\n",
    "    plt.title('RF frame ' + str(frame))\n",
    "    plt.subplot(1,2,2)\n",
    "    plt.imshow(np.transpose(bdata[:,:,frame]), cmap=plt.cm.gray, aspect='auto', vmin=15, vmax=70 )\n",
    "    plt.title('sample B frame ' + str(frame))\n",
    "    plt.show()"
   ]
  },
  {
   "cell_type": "markdown",
   "metadata": {},
   "source": [
    "## Reading IQ data\n",
    "\n",
    "The following script reads sample IQ data from a file and displays the results along with sample b mode image."
   ]
  },
  {
   "cell_type": "code",
   "execution_count": null,
   "metadata": {},
   "outputs": [],
   "source": [
    "# read iq data\n",
    "path = \"../data/wirephantom/\"\n",
    "filename = \"phantom_iq.raw\"\n",
    "hdr, timestamps, data = rd.read_iq(path + filename)\n",
    "# separating i and q data\n",
    "idata = data[:,0::2,:]\n",
    "qdata = data[:,1::2,:]    \n",
    "\n",
    "# covnert IQ to B \n",
    "numframes = 1 #hdr['frames']\n",
    "bdata = np.zeros((hdr['lines'], hdr['samples'], hdr['frames']), dtype='float')\n",
    "for frame in range(numframes):\n",
    "    bdata[:,:,frame] = 10 * np.log10(1 + np.power(idata[:,:,frame], 2) + np.power( qdata[:,:,frame], 2)  )\n",
    "\n",
    "# display images\n",
    "for frame in range(numframes):\n",
    "    plt.figure(figsize=(15,5))\n",
    "    plt.subplot(1,3,1)\n",
    "    plt.imshow(np.transpose(idata[:,:,frame]), cmap=plt.cm.viridis, aspect='auto', vmin=-100, vmax=100 )\n",
    "    plt.title('I frame ' + str(frame))\n",
    "    plt.subplot(1,3,2)\n",
    "    plt.imshow(np.transpose(qdata[:,:,frame]), cmap=plt.cm.viridis, aspect='auto', vmin=-100, vmax=100 )\n",
    "    plt.title('Q frame ' + str(frame))\n",
    "    plt.subplot(1,3,3)\n",
    "    plt.imshow(np.transpose(bdata[:,:,frame]), cmap=plt.cm.gray, aspect='auto', vmin=15, vmax=70 )\n",
    "    plt.title('sample B frame ' + str(frame))\n",
    "    plt.show()\n",
    "    "
   ]
  },
  {
   "cell_type": "markdown",
   "metadata": {},
   "source": [
    "## Reading envelope data\n",
    "\n",
    "The following script reads sample B/envelope data from a file and store them into memory.\n"
   ]
  },
  {
   "cell_type": "code",
   "execution_count": null,
   "metadata": {},
   "outputs": [],
   "source": [
    "# read b/envelope data\n",
    "path = \"../data/wirephantom/\"\n",
    "filename = \"phantom_env.raw\"\n",
    "hdr, timestamps, data = rd.read_env(path + filename)\n",
    "\n",
    "# display b data\n",
    "numframes = 1 #hdr['frames']\n",
    "for frame in range(numframes):\n",
    "    plt.figure(figsize=(5,5))\n",
    "    plt.imshow(np.transpose(data[:,:,frame]), cmap=plt.cm.gray, aspect='auto', vmin=0, vmax=255 )\n",
    "    plt.title('envelope frame ' + str(frame))\n",
    "    plt.show()   \n"
   ]
  },
  {
   "cell_type": "code",
   "execution_count": null,
   "metadata": {},
   "outputs": [],
   "source": []
  }
 ],
 "metadata": {
  "kernelspec": {
   "display_name": "Python 3",
   "language": "python",
   "name": "python3"
  },
  "language_info": {
   "codemirror_mode": {
    "name": "ipython",
    "version": 3
   },
   "file_extension": ".py",
   "mimetype": "text/x-python",
   "name": "python",
   "nbconvert_exporter": "python",
   "pygments_lexer": "ipython3",
   "version": "3.6.4"
  }
 },
 "nbformat": 4,
 "nbformat_minor": 2
}
